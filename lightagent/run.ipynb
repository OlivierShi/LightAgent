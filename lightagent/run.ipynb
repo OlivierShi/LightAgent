{
 "cells": [
  {
   "cell_type": "code",
   "execution_count": 9,
   "metadata": {},
   "outputs": [],
   "source": [
    "from datetime import datetime\n",
    "import os\n",
    "import uuid\n",
    "from prompt_generator import PromptGenerator\n",
    "from conversation_manager import ConversationManager\n",
    "from storage.sqlite import SQLiteStorage    \n",
    "from models import Message\n",
    "from llms import GPT35\n",
    "from plugins import PluginRunner\n",
    "from LightAgent import LightAgent\n",
    "if os.path.exists(\"test-sqlite.db\"):\n",
    "    os.remove(\"run-sqlite.db\")\n",
    "db = SQLiteStorage(\"run-sqlite.db\")\n",
    "cm = ConversationManager(db)\n",
    "agent = LightAgent(PromptGenerator(), GPT35(\"gpt3.5\"), cm, PluginRunner())\n",
    "\n"
   ]
  },
  {
   "cell_type": "code",
   "execution_count": 11,
   "metadata": {},
   "outputs": [
    {
     "name": "stdout",
     "output_type": "stream",
     "text": [
      "User: hi\n",
      "LightAgent: Hello! How can I assist you today?\n",
      "\n",
      "\n",
      "User: what's the time now\n",
      "LightAgent: The current time is 2024-03-27 19:41:09.\n",
      "\n",
      "\n",
      "User: what's the weather now in beijing\n",
      "LightAgent: The current weather in Beijing is not available. I apologize for the inconvenience.\n",
      "\n",
      "\n",
      "User: What's the weather now\n",
      "LightAgent: I'm sorry, but I don't have access to real-time weather information.\n",
      "\n",
      "\n",
      "User: send a message as a bottle\n",
      "LightAgent: Sure! I can help you send a message as a bottle. Could you please provide me with the content of the message?\n",
      "\n",
      "\n",
      "User: exit\n",
      "LightAgent: Goodbye! If you have any more questions in the future, feel free to ask. Have a great day!\n",
      "\n",
      "\n"
     ]
    }
   ],
   "source": [
    "\n",
    "query = \"\"\n",
    "conv_id = str(uuid.uuid4())\n",
    "\n",
    "while query != \"exit\":\n",
    "    if query == \"new\":\n",
    "        conv_id = str(uuid.uuid4())\n",
    "        continue\n",
    "    \n",
    "    msg_id = str(uuid.uuid4())\n",
    "    query = input(\"Enter a query: \")\n",
    "    print(f\"User: {query}\")\n",
    "    message = Message(msg_id, query, datetime.now(), conv_id,  [\"web_search\", \"message_in_a_bottle\"])\n",
    "    \n",
    "    response = agent.chat(message)\n",
    "    print(f\"LightAgent: {response}\")\n",
    "    print(\"\\n\")\n"
   ]
  }
 ],
 "metadata": {
  "kernelspec": {
   "display_name": "Python 3",
   "language": "python",
   "name": "python3"
  },
  "language_info": {
   "codemirror_mode": {
    "name": "ipython",
    "version": 3
   },
   "file_extension": ".py",
   "mimetype": "text/x-python",
   "name": "python",
   "nbconvert_exporter": "python",
   "pygments_lexer": "ipython3",
   "version": "3.8.16"
  }
 },
 "nbformat": 4,
 "nbformat_minor": 2
}
